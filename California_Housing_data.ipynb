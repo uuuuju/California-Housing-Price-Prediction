{
  "nbformat": 4,
  "nbformat_minor": 0,
  "metadata": {
    "colab": {
      "name": "California Housing data.ipynb",
      "provenance": [],
      "authorship_tag": "ABX9TyMtT+63hbrJVr0EGcH33E2S",
      "include_colab_link": true
    },
    "kernelspec": {
      "name": "python3",
      "display_name": "Python 3"
    },
    "language_info": {
      "name": "python"
    }
  },
  "cells": [
    {
      "cell_type": "markdown",
      "metadata": {
        "id": "view-in-github",
        "colab_type": "text"
      },
      "source": [
        "<a href=\"https://colab.research.google.com/github/uuuuju/California-Housing-Price-Prediction/blob/main/California_Housing_data.ipynb\" target=\"_parent\"><img src=\"https://colab.research.google.com/assets/colab-badge.svg\" alt=\"Open In Colab\"/></a>"
      ]
    },
    {
      "cell_type": "code",
      "execution_count": 1,
      "metadata": {
        "id": "mkPo8n0VE-sL"
      },
      "outputs": [],
      "source": [
        "import tensorflow as tf\n",
        "import pandas as pd\n",
        "from matplotlib import pyplot as plt"
      ]
    },
    {
      "cell_type": "code",
      "source": [
        "pd.options.display.max_rows = 10\n",
        "pd.options.display.float_format = \"{:.1f}\".format"
      ],
      "metadata": {
        "id": "BesbIO9dFWpc"
      },
      "execution_count": 2,
      "outputs": []
    },
    {
      "cell_type": "code",
      "source": [
        "data_frame = pd.read_csv(filepath_or_buffer=\"https://download.mlcc.google.com/mledu-datasets/california_housing_train.csv\")"
      ],
      "metadata": {
        "id": "7ZJtNn6AGFAU"
      },
      "execution_count": 4,
      "outputs": []
    },
    {
      "cell_type": "code",
      "source": [
        "data_frame[\"median_house_value\"] /= 1000.0"
      ],
      "metadata": {
        "id": "7Dtf_9glGLm0"
      },
      "execution_count": 5,
      "outputs": []
    },
    {
      "cell_type": "code",
      "source": [
        "data_frame.head()"
      ],
      "metadata": {
        "colab": {
          "base_uri": "https://localhost:8080/",
          "height": 206
        },
        "id": "oa3fy3acGSbT",
        "outputId": "76a7abad-59ec-4ccd-8b03-24593d18645c"
      },
      "execution_count": 6,
      "outputs": [
        {
          "output_type": "execute_result",
          "data": {
            "text/plain": [
              "   longitude  latitude  housing_median_age  total_rooms  total_bedrooms  \\\n",
              "0     -114.3      34.2                15.0       5612.0          1283.0   \n",
              "1     -114.5      34.4                19.0       7650.0          1901.0   \n",
              "2     -114.6      33.7                17.0        720.0           174.0   \n",
              "3     -114.6      33.6                14.0       1501.0           337.0   \n",
              "4     -114.6      33.6                20.0       1454.0           326.0   \n",
              "\n",
              "   population  households  median_income  median_house_value  \n",
              "0      1015.0       472.0            1.5                66.9  \n",
              "1      1129.0       463.0            1.8                80.1  \n",
              "2       333.0       117.0            1.7                85.7  \n",
              "3       515.0       226.0            3.2                73.4  \n",
              "4       624.0       262.0            1.9                65.5  "
            ],
            "text/html": [
              "\n",
              "  <div id=\"df-d2fccedd-4ff8-4bc7-8274-3080ad5641f2\">\n",
              "    <div class=\"colab-df-container\">\n",
              "      <div>\n",
              "<style scoped>\n",
              "    .dataframe tbody tr th:only-of-type {\n",
              "        vertical-align: middle;\n",
              "    }\n",
              "\n",
              "    .dataframe tbody tr th {\n",
              "        vertical-align: top;\n",
              "    }\n",
              "\n",
              "    .dataframe thead th {\n",
              "        text-align: right;\n",
              "    }\n",
              "</style>\n",
              "<table border=\"1\" class=\"dataframe\">\n",
              "  <thead>\n",
              "    <tr style=\"text-align: right;\">\n",
              "      <th></th>\n",
              "      <th>longitude</th>\n",
              "      <th>latitude</th>\n",
              "      <th>housing_median_age</th>\n",
              "      <th>total_rooms</th>\n",
              "      <th>total_bedrooms</th>\n",
              "      <th>population</th>\n",
              "      <th>households</th>\n",
              "      <th>median_income</th>\n",
              "      <th>median_house_value</th>\n",
              "    </tr>\n",
              "  </thead>\n",
              "  <tbody>\n",
              "    <tr>\n",
              "      <th>0</th>\n",
              "      <td>-114.3</td>\n",
              "      <td>34.2</td>\n",
              "      <td>15.0</td>\n",
              "      <td>5612.0</td>\n",
              "      <td>1283.0</td>\n",
              "      <td>1015.0</td>\n",
              "      <td>472.0</td>\n",
              "      <td>1.5</td>\n",
              "      <td>66.9</td>\n",
              "    </tr>\n",
              "    <tr>\n",
              "      <th>1</th>\n",
              "      <td>-114.5</td>\n",
              "      <td>34.4</td>\n",
              "      <td>19.0</td>\n",
              "      <td>7650.0</td>\n",
              "      <td>1901.0</td>\n",
              "      <td>1129.0</td>\n",
              "      <td>463.0</td>\n",
              "      <td>1.8</td>\n",
              "      <td>80.1</td>\n",
              "    </tr>\n",
              "    <tr>\n",
              "      <th>2</th>\n",
              "      <td>-114.6</td>\n",
              "      <td>33.7</td>\n",
              "      <td>17.0</td>\n",
              "      <td>720.0</td>\n",
              "      <td>174.0</td>\n",
              "      <td>333.0</td>\n",
              "      <td>117.0</td>\n",
              "      <td>1.7</td>\n",
              "      <td>85.7</td>\n",
              "    </tr>\n",
              "    <tr>\n",
              "      <th>3</th>\n",
              "      <td>-114.6</td>\n",
              "      <td>33.6</td>\n",
              "      <td>14.0</td>\n",
              "      <td>1501.0</td>\n",
              "      <td>337.0</td>\n",
              "      <td>515.0</td>\n",
              "      <td>226.0</td>\n",
              "      <td>3.2</td>\n",
              "      <td>73.4</td>\n",
              "    </tr>\n",
              "    <tr>\n",
              "      <th>4</th>\n",
              "      <td>-114.6</td>\n",
              "      <td>33.6</td>\n",
              "      <td>20.0</td>\n",
              "      <td>1454.0</td>\n",
              "      <td>326.0</td>\n",
              "      <td>624.0</td>\n",
              "      <td>262.0</td>\n",
              "      <td>1.9</td>\n",
              "      <td>65.5</td>\n",
              "    </tr>\n",
              "  </tbody>\n",
              "</table>\n",
              "</div>\n",
              "      <button class=\"colab-df-convert\" onclick=\"convertToInteractive('df-d2fccedd-4ff8-4bc7-8274-3080ad5641f2')\"\n",
              "              title=\"Convert this dataframe to an interactive table.\"\n",
              "              style=\"display:none;\">\n",
              "        \n",
              "  <svg xmlns=\"http://www.w3.org/2000/svg\" height=\"24px\"viewBox=\"0 0 24 24\"\n",
              "       width=\"24px\">\n",
              "    <path d=\"M0 0h24v24H0V0z\" fill=\"none\"/>\n",
              "    <path d=\"M18.56 5.44l.94 2.06.94-2.06 2.06-.94-2.06-.94-.94-2.06-.94 2.06-2.06.94zm-11 1L8.5 8.5l.94-2.06 2.06-.94-2.06-.94L8.5 2.5l-.94 2.06-2.06.94zm10 10l.94 2.06.94-2.06 2.06-.94-2.06-.94-.94-2.06-.94 2.06-2.06.94z\"/><path d=\"M17.41 7.96l-1.37-1.37c-.4-.4-.92-.59-1.43-.59-.52 0-1.04.2-1.43.59L10.3 9.45l-7.72 7.72c-.78.78-.78 2.05 0 2.83L4 21.41c.39.39.9.59 1.41.59.51 0 1.02-.2 1.41-.59l7.78-7.78 2.81-2.81c.8-.78.8-2.07 0-2.86zM5.41 20L4 18.59l7.72-7.72 1.47 1.35L5.41 20z\"/>\n",
              "  </svg>\n",
              "      </button>\n",
              "      \n",
              "  <style>\n",
              "    .colab-df-container {\n",
              "      display:flex;\n",
              "      flex-wrap:wrap;\n",
              "      gap: 12px;\n",
              "    }\n",
              "\n",
              "    .colab-df-convert {\n",
              "      background-color: #E8F0FE;\n",
              "      border: none;\n",
              "      border-radius: 50%;\n",
              "      cursor: pointer;\n",
              "      display: none;\n",
              "      fill: #1967D2;\n",
              "      height: 32px;\n",
              "      padding: 0 0 0 0;\n",
              "      width: 32px;\n",
              "    }\n",
              "\n",
              "    .colab-df-convert:hover {\n",
              "      background-color: #E2EBFA;\n",
              "      box-shadow: 0px 1px 2px rgba(60, 64, 67, 0.3), 0px 1px 3px 1px rgba(60, 64, 67, 0.15);\n",
              "      fill: #174EA6;\n",
              "    }\n",
              "\n",
              "    [theme=dark] .colab-df-convert {\n",
              "      background-color: #3B4455;\n",
              "      fill: #D2E3FC;\n",
              "    }\n",
              "\n",
              "    [theme=dark] .colab-df-convert:hover {\n",
              "      background-color: #434B5C;\n",
              "      box-shadow: 0px 1px 3px 1px rgba(0, 0, 0, 0.15);\n",
              "      filter: drop-shadow(0px 1px 2px rgba(0, 0, 0, 0.3));\n",
              "      fill: #FFFFFF;\n",
              "    }\n",
              "  </style>\n",
              "\n",
              "      <script>\n",
              "        const buttonEl =\n",
              "          document.querySelector('#df-d2fccedd-4ff8-4bc7-8274-3080ad5641f2 button.colab-df-convert');\n",
              "        buttonEl.style.display =\n",
              "          google.colab.kernel.accessAllowed ? 'block' : 'none';\n",
              "\n",
              "        async function convertToInteractive(key) {\n",
              "          const element = document.querySelector('#df-d2fccedd-4ff8-4bc7-8274-3080ad5641f2');\n",
              "          const dataTable =\n",
              "            await google.colab.kernel.invokeFunction('convertToInteractive',\n",
              "                                                     [key], {});\n",
              "          if (!dataTable) return;\n",
              "\n",
              "          const docLinkHtml = 'Like what you see? Visit the ' +\n",
              "            '<a target=\"_blank\" href=https://colab.research.google.com/notebooks/data_table.ipynb>data table notebook</a>'\n",
              "            + ' to learn more about interactive tables.';\n",
              "          element.innerHTML = '';\n",
              "          dataTable['output_type'] = 'display_data';\n",
              "          await google.colab.output.renderOutput(dataTable, element);\n",
              "          const docLink = document.createElement('div');\n",
              "          docLink.innerHTML = docLinkHtml;\n",
              "          element.appendChild(docLink);\n",
              "        }\n",
              "      </script>\n",
              "    </div>\n",
              "  </div>\n",
              "  "
            ]
          },
          "metadata": {},
          "execution_count": 6
        }
      ]
    },
    {
      "cell_type": "code",
      "source": [
        "data_frame.describe()"
      ],
      "metadata": {
        "colab": {
          "base_uri": "https://localhost:8080/",
          "height": 300
        },
        "id": "8KbLB6tZGVIE",
        "outputId": "57f7a070-f3a9-43bd-e99b-281751822071"
      },
      "execution_count": 7,
      "outputs": [
        {
          "output_type": "execute_result",
          "data": {
            "text/plain": [
              "       longitude  latitude  housing_median_age  total_rooms  total_bedrooms  \\\n",
              "count    17000.0   17000.0             17000.0      17000.0         17000.0   \n",
              "mean      -119.6      35.6                28.6       2643.7           539.4   \n",
              "std          2.0       2.1                12.6       2179.9           421.5   \n",
              "min       -124.3      32.5                 1.0          2.0             1.0   \n",
              "25%       -121.8      33.9                18.0       1462.0           297.0   \n",
              "50%       -118.5      34.2                29.0       2127.0           434.0   \n",
              "75%       -118.0      37.7                37.0       3151.2           648.2   \n",
              "max       -114.3      42.0                52.0      37937.0          6445.0   \n",
              "\n",
              "       population  households  median_income  median_house_value  \n",
              "count     17000.0     17000.0        17000.0             17000.0  \n",
              "mean       1429.6       501.2            3.9               207.3  \n",
              "std        1147.9       384.5            1.9               116.0  \n",
              "min           3.0         1.0            0.5                15.0  \n",
              "25%         790.0       282.0            2.6               119.4  \n",
              "50%        1167.0       409.0            3.5               180.4  \n",
              "75%        1721.0       605.2            4.8               265.0  \n",
              "max       35682.0      6082.0           15.0               500.0  "
            ],
            "text/html": [
              "\n",
              "  <div id=\"df-a0194896-bf74-4150-b80c-f02abdfccfac\">\n",
              "    <div class=\"colab-df-container\">\n",
              "      <div>\n",
              "<style scoped>\n",
              "    .dataframe tbody tr th:only-of-type {\n",
              "        vertical-align: middle;\n",
              "    }\n",
              "\n",
              "    .dataframe tbody tr th {\n",
              "        vertical-align: top;\n",
              "    }\n",
              "\n",
              "    .dataframe thead th {\n",
              "        text-align: right;\n",
              "    }\n",
              "</style>\n",
              "<table border=\"1\" class=\"dataframe\">\n",
              "  <thead>\n",
              "    <tr style=\"text-align: right;\">\n",
              "      <th></th>\n",
              "      <th>longitude</th>\n",
              "      <th>latitude</th>\n",
              "      <th>housing_median_age</th>\n",
              "      <th>total_rooms</th>\n",
              "      <th>total_bedrooms</th>\n",
              "      <th>population</th>\n",
              "      <th>households</th>\n",
              "      <th>median_income</th>\n",
              "      <th>median_house_value</th>\n",
              "    </tr>\n",
              "  </thead>\n",
              "  <tbody>\n",
              "    <tr>\n",
              "      <th>count</th>\n",
              "      <td>17000.0</td>\n",
              "      <td>17000.0</td>\n",
              "      <td>17000.0</td>\n",
              "      <td>17000.0</td>\n",
              "      <td>17000.0</td>\n",
              "      <td>17000.0</td>\n",
              "      <td>17000.0</td>\n",
              "      <td>17000.0</td>\n",
              "      <td>17000.0</td>\n",
              "    </tr>\n",
              "    <tr>\n",
              "      <th>mean</th>\n",
              "      <td>-119.6</td>\n",
              "      <td>35.6</td>\n",
              "      <td>28.6</td>\n",
              "      <td>2643.7</td>\n",
              "      <td>539.4</td>\n",
              "      <td>1429.6</td>\n",
              "      <td>501.2</td>\n",
              "      <td>3.9</td>\n",
              "      <td>207.3</td>\n",
              "    </tr>\n",
              "    <tr>\n",
              "      <th>std</th>\n",
              "      <td>2.0</td>\n",
              "      <td>2.1</td>\n",
              "      <td>12.6</td>\n",
              "      <td>2179.9</td>\n",
              "      <td>421.5</td>\n",
              "      <td>1147.9</td>\n",
              "      <td>384.5</td>\n",
              "      <td>1.9</td>\n",
              "      <td>116.0</td>\n",
              "    </tr>\n",
              "    <tr>\n",
              "      <th>min</th>\n",
              "      <td>-124.3</td>\n",
              "      <td>32.5</td>\n",
              "      <td>1.0</td>\n",
              "      <td>2.0</td>\n",
              "      <td>1.0</td>\n",
              "      <td>3.0</td>\n",
              "      <td>1.0</td>\n",
              "      <td>0.5</td>\n",
              "      <td>15.0</td>\n",
              "    </tr>\n",
              "    <tr>\n",
              "      <th>25%</th>\n",
              "      <td>-121.8</td>\n",
              "      <td>33.9</td>\n",
              "      <td>18.0</td>\n",
              "      <td>1462.0</td>\n",
              "      <td>297.0</td>\n",
              "      <td>790.0</td>\n",
              "      <td>282.0</td>\n",
              "      <td>2.6</td>\n",
              "      <td>119.4</td>\n",
              "    </tr>\n",
              "    <tr>\n",
              "      <th>50%</th>\n",
              "      <td>-118.5</td>\n",
              "      <td>34.2</td>\n",
              "      <td>29.0</td>\n",
              "      <td>2127.0</td>\n",
              "      <td>434.0</td>\n",
              "      <td>1167.0</td>\n",
              "      <td>409.0</td>\n",
              "      <td>3.5</td>\n",
              "      <td>180.4</td>\n",
              "    </tr>\n",
              "    <tr>\n",
              "      <th>75%</th>\n",
              "      <td>-118.0</td>\n",
              "      <td>37.7</td>\n",
              "      <td>37.0</td>\n",
              "      <td>3151.2</td>\n",
              "      <td>648.2</td>\n",
              "      <td>1721.0</td>\n",
              "      <td>605.2</td>\n",
              "      <td>4.8</td>\n",
              "      <td>265.0</td>\n",
              "    </tr>\n",
              "    <tr>\n",
              "      <th>max</th>\n",
              "      <td>-114.3</td>\n",
              "      <td>42.0</td>\n",
              "      <td>52.0</td>\n",
              "      <td>37937.0</td>\n",
              "      <td>6445.0</td>\n",
              "      <td>35682.0</td>\n",
              "      <td>6082.0</td>\n",
              "      <td>15.0</td>\n",
              "      <td>500.0</td>\n",
              "    </tr>\n",
              "  </tbody>\n",
              "</table>\n",
              "</div>\n",
              "      <button class=\"colab-df-convert\" onclick=\"convertToInteractive('df-a0194896-bf74-4150-b80c-f02abdfccfac')\"\n",
              "              title=\"Convert this dataframe to an interactive table.\"\n",
              "              style=\"display:none;\">\n",
              "        \n",
              "  <svg xmlns=\"http://www.w3.org/2000/svg\" height=\"24px\"viewBox=\"0 0 24 24\"\n",
              "       width=\"24px\">\n",
              "    <path d=\"M0 0h24v24H0V0z\" fill=\"none\"/>\n",
              "    <path d=\"M18.56 5.44l.94 2.06.94-2.06 2.06-.94-2.06-.94-.94-2.06-.94 2.06-2.06.94zm-11 1L8.5 8.5l.94-2.06 2.06-.94-2.06-.94L8.5 2.5l-.94 2.06-2.06.94zm10 10l.94 2.06.94-2.06 2.06-.94-2.06-.94-.94-2.06-.94 2.06-2.06.94z\"/><path d=\"M17.41 7.96l-1.37-1.37c-.4-.4-.92-.59-1.43-.59-.52 0-1.04.2-1.43.59L10.3 9.45l-7.72 7.72c-.78.78-.78 2.05 0 2.83L4 21.41c.39.39.9.59 1.41.59.51 0 1.02-.2 1.41-.59l7.78-7.78 2.81-2.81c.8-.78.8-2.07 0-2.86zM5.41 20L4 18.59l7.72-7.72 1.47 1.35L5.41 20z\"/>\n",
              "  </svg>\n",
              "      </button>\n",
              "      \n",
              "  <style>\n",
              "    .colab-df-container {\n",
              "      display:flex;\n",
              "      flex-wrap:wrap;\n",
              "      gap: 12px;\n",
              "    }\n",
              "\n",
              "    .colab-df-convert {\n",
              "      background-color: #E8F0FE;\n",
              "      border: none;\n",
              "      border-radius: 50%;\n",
              "      cursor: pointer;\n",
              "      display: none;\n",
              "      fill: #1967D2;\n",
              "      height: 32px;\n",
              "      padding: 0 0 0 0;\n",
              "      width: 32px;\n",
              "    }\n",
              "\n",
              "    .colab-df-convert:hover {\n",
              "      background-color: #E2EBFA;\n",
              "      box-shadow: 0px 1px 2px rgba(60, 64, 67, 0.3), 0px 1px 3px 1px rgba(60, 64, 67, 0.15);\n",
              "      fill: #174EA6;\n",
              "    }\n",
              "\n",
              "    [theme=dark] .colab-df-convert {\n",
              "      background-color: #3B4455;\n",
              "      fill: #D2E3FC;\n",
              "    }\n",
              "\n",
              "    [theme=dark] .colab-df-convert:hover {\n",
              "      background-color: #434B5C;\n",
              "      box-shadow: 0px 1px 3px 1px rgba(0, 0, 0, 0.15);\n",
              "      filter: drop-shadow(0px 1px 2px rgba(0, 0, 0, 0.3));\n",
              "      fill: #FFFFFF;\n",
              "    }\n",
              "  </style>\n",
              "\n",
              "      <script>\n",
              "        const buttonEl =\n",
              "          document.querySelector('#df-a0194896-bf74-4150-b80c-f02abdfccfac button.colab-df-convert');\n",
              "        buttonEl.style.display =\n",
              "          google.colab.kernel.accessAllowed ? 'block' : 'none';\n",
              "\n",
              "        async function convertToInteractive(key) {\n",
              "          const element = document.querySelector('#df-a0194896-bf74-4150-b80c-f02abdfccfac');\n",
              "          const dataTable =\n",
              "            await google.colab.kernel.invokeFunction('convertToInteractive',\n",
              "                                                     [key], {});\n",
              "          if (!dataTable) return;\n",
              "\n",
              "          const docLinkHtml = 'Like what you see? Visit the ' +\n",
              "            '<a target=\"_blank\" href=https://colab.research.google.com/notebooks/data_table.ipynb>data table notebook</a>'\n",
              "            + ' to learn more about interactive tables.';\n",
              "          element.innerHTML = '';\n",
              "          dataTable['output_type'] = 'display_data';\n",
              "          await google.colab.output.renderOutput(dataTable, element);\n",
              "          const docLink = document.createElement('div');\n",
              "          docLink.innerHTML = docLinkHtml;\n",
              "          element.appendChild(docLink);\n",
              "        }\n",
              "      </script>\n",
              "    </div>\n",
              "  </div>\n",
              "  "
            ]
          },
          "metadata": {},
          "execution_count": 7
        }
      ]
    },
    {
      "cell_type": "code",
      "source": [
        "def build_model(my_learning_rate):\n",
        "  model = tf.keras.models.Sequential()\n",
        "  model.add(tf.keras.layers.Dense(units=1, \n",
        "                                  input_shape=(1,)))\n",
        "  model.compile(optimizer=tf.keras.optimizers.RMSprop(learning_rate=my_learning_rate),\n",
        "                loss=\"mean_squared_error\",\n",
        "                metrics=[tf.keras.metrics.RootMeanSquaredError()])\n",
        "  return model        "
      ],
      "metadata": {
        "id": "sOM-eTzjGg0N"
      },
      "execution_count": 8,
      "outputs": []
    },
    {
      "cell_type": "code",
      "source": [
        "def train_model(model, df, feature, label, epochs, batch_size):\n",
        "   history = model.fit(x=df[feature],\n",
        "                      y=df[label],\n",
        "                      batch_size=batch_size,\n",
        "                      epochs=epochs)\n",
        "   trained_weight = model.get_weights()[0]\n",
        "   trained_bias = model.get_weights()[1]\n",
        "   epochs = history.epoch\n",
        "   hist = pd.DataFrame(history.history)\n",
        "   rmse = hist[\"root_mean_squared_error\"]\n",
        "\n",
        "   return trained_weight, trained_bias, epochs, rmse\n",
        "\n",
        "print(\"Defined the create_model and traing_model functions.\")"
      ],
      "metadata": {
        "colab": {
          "base_uri": "https://localhost:8080/"
        },
        "id": "Iof3aY2THSa9",
        "outputId": "dd606e8d-7f50-4327-8e41-880e376baf95"
      },
      "execution_count": 10,
      "outputs": [
        {
          "output_type": "stream",
          "name": "stdout",
          "text": [
            "Defined the create_model and traing_model functions.\n"
          ]
        }
      ]
    },
    {
      "cell_type": "code",
      "source": [
        "def plot_the_model(trained_weight, trained_bias, feature, label):\n",
        "  plt.xlabel(feature)\n",
        "  plt.ylabel(label)\n",
        "  random_examples = data_frame.sample(n=200)\n",
        "  plt.scatter(random_examples[feature], random_examples[label])\n",
        "  x0 = 0\n",
        "  y0 = trained_bias\n",
        "  x1 = 10000\n",
        "  y1 = trained_bias + (trained_weight * x1)\n",
        "  plt.plot([x0, x1], [y0, y1], c='r')\n",
        "  plt.show()"
      ],
      "metadata": {
        "id": "XG3UdhH0HuM8"
      },
      "execution_count": 11,
      "outputs": []
    },
    {
      "cell_type": "code",
      "source": [
        "def plot_the_loss_curve(epochs, rmse):\n",
        "  plt.figure()\n",
        "  plt.xlabel(\"Epoch\")\n",
        "  plt.ylabel(\"Root Mean Squared Error\")\n",
        "\n",
        "  plt.plot(epochs, rmse, label=\"Loss\")\n",
        "  plt.legend()\n",
        "  plt.ylim([rmse.min()*0.97, rmse.max()])\n",
        "  plt.show()  \n",
        "\n",
        "print(\"Defined the plot_the_model and plot_the_loss_curve functions.\")"
      ],
      "metadata": {
        "colab": {
          "base_uri": "https://localhost:8080/"
        },
        "id": "RrwsBByeICES",
        "outputId": "ca7505ec-4a01-4671-c60e-9ffd4313b620"
      },
      "execution_count": 12,
      "outputs": [
        {
          "output_type": "stream",
          "name": "stdout",
          "text": [
            "Defined the plot_the_model and plot_the_loss_curve functions.\n"
          ]
        }
      ]
    },
    {
      "cell_type": "code",
      "source": [
        "learning_rate = 0.01\n",
        "epochs = 30\n",
        "batch_size = 30"
      ],
      "metadata": {
        "id": "VJX5Tkv9IKkQ"
      },
      "execution_count": 13,
      "outputs": []
    },
    {
      "cell_type": "markdown",
      "source": [
        "using total rooms as the only feature to train the model"
      ],
      "metadata": {
        "id": "_PONEQjPR8Zx"
      }
    },
    {
      "cell_type": "code",
      "source": [
        "my_feature = \"total_rooms\"\n",
        "my_label=\"median_house_value\" "
      ],
      "metadata": {
        "id": "0cbykYxwIM5x"
      },
      "execution_count": 14,
      "outputs": []
    },
    {
      "cell_type": "code",
      "source": [
        "my_model = None\n",
        "my_model = build_model(learning_rate)\n",
        "weight, bias, epochs, rmse = train_model(my_model, data_frame, \n",
        "                                         my_feature, my_label,\n",
        "                                         epochs, batch_size)"
      ],
      "metadata": {
        "colab": {
          "base_uri": "https://localhost:8080/"
        },
        "id": "awgIWHL7IXIR",
        "outputId": "bdfa366f-77b9-4256-dc92-e9fb07e38f59"
      },
      "execution_count": 15,
      "outputs": [
        {
          "output_type": "stream",
          "name": "stderr",
          "text": [
            "/usr/local/lib/python3.7/dist-packages/keras/optimizer_v2/rmsprop.py:130: UserWarning: The `lr` argument is deprecated, use `learning_rate` instead.\n",
            "  super(RMSprop, self).__init__(name, **kwargs)\n"
          ]
        },
        {
          "output_type": "stream",
          "name": "stdout",
          "text": [
            "Epoch 1/30\n",
            "567/567 [==============================] - 2s 3ms/step - loss: 2838362.7500 - root_mean_squared_error: 1684.7441\n",
            "Epoch 2/30\n",
            "567/567 [==============================] - 1s 2ms/step - loss: 28428.5898 - root_mean_squared_error: 168.6078\n",
            "Epoch 3/30\n",
            "567/567 [==============================] - 1s 2ms/step - loss: 27574.6211 - root_mean_squared_error: 166.0561\n",
            "Epoch 4/30\n",
            "567/567 [==============================] - 1s 2ms/step - loss: 27191.7715 - root_mean_squared_error: 164.8993\n",
            "Epoch 5/30\n",
            "567/567 [==============================] - 1s 1ms/step - loss: 26271.2207 - root_mean_squared_error: 162.0840\n",
            "Epoch 6/30\n",
            "567/567 [==============================] - 1s 1ms/step - loss: 25405.7266 - root_mean_squared_error: 159.3917\n",
            "Epoch 7/30\n",
            "567/567 [==============================] - 1s 1ms/step - loss: 24828.3301 - root_mean_squared_error: 157.5701\n",
            "Epoch 8/30\n",
            "567/567 [==============================] - 1s 1ms/step - loss: 24054.4688 - root_mean_squared_error: 155.0950\n",
            "Epoch 9/30\n",
            "567/567 [==============================] - 1s 1ms/step - loss: 23414.3008 - root_mean_squared_error: 153.0173\n",
            "Epoch 10/30\n",
            "567/567 [==============================] - 1s 1ms/step - loss: 22686.1523 - root_mean_squared_error: 150.6192\n",
            "Epoch 11/30\n",
            "567/567 [==============================] - 1s 1ms/step - loss: 22145.1621 - root_mean_squared_error: 148.8125\n",
            "Epoch 12/30\n",
            "567/567 [==============================] - 1s 1ms/step - loss: 21567.3848 - root_mean_squared_error: 146.8584\n",
            "Epoch 13/30\n",
            "567/567 [==============================] - 1s 1ms/step - loss: 21275.9160 - root_mean_squared_error: 145.8627\n",
            "Epoch 14/30\n",
            "567/567 [==============================] - 1s 1ms/step - loss: 20588.8066 - root_mean_squared_error: 143.4880\n",
            "Epoch 15/30\n",
            "567/567 [==============================] - 1s 1ms/step - loss: 20137.1797 - root_mean_squared_error: 141.9055\n",
            "Epoch 16/30\n",
            "567/567 [==============================] - 1s 1ms/step - loss: 19703.1641 - root_mean_squared_error: 140.3680\n",
            "Epoch 17/30\n",
            "567/567 [==============================] - 1s 1ms/step - loss: 19311.4023 - root_mean_squared_error: 138.9655\n",
            "Epoch 18/30\n",
            "567/567 [==============================] - 1s 1ms/step - loss: 18873.2305 - root_mean_squared_error: 137.3799\n",
            "Epoch 19/30\n",
            "567/567 [==============================] - 1s 1ms/step - loss: 18563.9316 - root_mean_squared_error: 136.2495\n",
            "Epoch 20/30\n",
            "567/567 [==============================] - 1s 1ms/step - loss: 18023.1465 - root_mean_squared_error: 134.2503\n",
            "Epoch 21/30\n",
            "567/567 [==============================] - 1s 1ms/step - loss: 17730.5391 - root_mean_squared_error: 133.1561\n",
            "Epoch 22/30\n",
            "567/567 [==============================] - 1s 1ms/step - loss: 17443.1973 - root_mean_squared_error: 132.0727\n",
            "Epoch 23/30\n",
            "567/567 [==============================] - 1s 1ms/step - loss: 17143.2773 - root_mean_squared_error: 130.9323\n",
            "Epoch 24/30\n",
            "567/567 [==============================] - 1s 1ms/step - loss: 16833.8359 - root_mean_squared_error: 129.7453\n",
            "Epoch 25/30\n",
            "567/567 [==============================] - 1s 1ms/step - loss: 16511.0020 - root_mean_squared_error: 128.4951\n",
            "Epoch 26/30\n",
            "567/567 [==============================] - 1s 1ms/step - loss: 16222.4658 - root_mean_squared_error: 127.3674\n",
            "Epoch 27/30\n",
            "567/567 [==============================] - 1s 1ms/step - loss: 16175.9678 - root_mean_squared_error: 127.1848\n",
            "Epoch 28/30\n",
            "567/567 [==============================] - 1s 1ms/step - loss: 15831.1641 - root_mean_squared_error: 125.8220\n",
            "Epoch 29/30\n",
            "567/567 [==============================] - 1s 1ms/step - loss: 15604.7158 - root_mean_squared_error: 124.9188\n",
            "Epoch 30/30\n",
            "567/567 [==============================] - 1s 1ms/step - loss: 15378.1416 - root_mean_squared_error: 124.0086\n"
          ]
        }
      ]
    },
    {
      "cell_type": "code",
      "source": [
        "print(\"\\nThe learned weight for your model is %.4f\" % weight)\n",
        "print(\"The learned bias for your model is %.4f\\n\" % bias )\n",
        "\n",
        "plot_the_model(weight, bias, my_feature, my_label)\n",
        "plot_the_loss_curve(epochs, rmse)"
      ],
      "metadata": {
        "colab": {
          "base_uri": "https://localhost:8080/",
          "height": 666
        },
        "id": "H-aooerrIjQB",
        "outputId": "d54686af-82c6-4ec9-da78-a199ee640409"
      },
      "execution_count": 16,
      "outputs": [
        {
          "output_type": "stream",
          "name": "stdout",
          "text": [
            "\n",
            "The learned weight for your model is 0.0260\n",
            "The learned bias for your model is 129.7362\n",
            "\n"
          ]
        },
        {
          "output_type": "stream",
          "name": "stderr",
          "text": [
            "/usr/local/lib/python3.7/dist-packages/numpy/core/shape_base.py:65: VisibleDeprecationWarning: Creating an ndarray from ragged nested sequences (which is a list-or-tuple of lists-or-tuples-or ndarrays with different lengths or shapes) is deprecated. If you meant to do this, you must specify 'dtype=object' when creating the ndarray.\n",
            "  ary = asanyarray(ary)\n"
          ]
        },
        {
          "output_type": "display_data",
          "data": {
            "text/plain": [
              "<Figure size 432x288 with 1 Axes>"
            ],
            "image/png": "[encoded data removed]"
          },
          "metadata": {
            "needs_background": "light"
          }
        },
        {
          "output_type": "display_data",
          "data": {
            "text/plain": [
              "<Figure size 432x288 with 1 Axes>"
            ],
            "image/png": "[encoded data removed]"
          },
          "metadata": {
            "needs_background": "light"
          }
        }
      ]
    },
    {
      "cell_type": "code",
      "source": [
        "def predict_house_values(n, feature, label):\n",
        "  batch = data_frame[feature][10000:10000 + n]\n",
        "  predicted_values = my_model.predict_on_batch(x=batch)\n",
        "  print(\"feature   label          predicted\")\n",
        "  print(\"  value   value          value\")\n",
        "  print(\"          in thousand$   in thousand$\")\n",
        "  print(\"--------------------------------------\")\n",
        "  for i in range(n):\n",
        "    print (\"%5.0f %6.0f %15.0f\" % (data_frame[feature][10000 + i],\n",
        "                                   data_frame[label][10000 + i],\n",
        "                                   predicted_values[i][0] ))  "
      ],
      "metadata": {
        "id": "ZCrfi0xBIlG6"
      },
      "execution_count": 18,
      "outputs": []
    },
    {
      "cell_type": "code",
      "source": [
        "predict_house_values(10, my_feature, my_label)"
      ],
      "metadata": {
        "colab": {
          "base_uri": "https://localhost:8080/"
        },
        "id": "NFUpvzO4I5H1",
        "outputId": "53eda047-4325-4764-aa90-92fba2bcb133"
      },
      "execution_count": 19,
      "outputs": [
        {
          "output_type": "stream",
          "name": "stdout",
          "text": [
            "feature   label          predicted\n",
            "  value   value          value\n",
            "          in thousand$   in thousand$\n",
            "--------------------------------------\n",
            " 1960     53             181\n",
            " 3400     92             218\n",
            " 3677     69             225\n",
            " 2202     62             187\n",
            " 2403     80             192\n",
            " 5652    295             276\n",
            " 3318    500             216\n",
            " 2552    342             196\n",
            " 1364    118             165\n",
            " 3468    128             220\n"
          ]
        }
      ]
    },
    {
      "cell_type": "code",
      "source": [
        "learning_rate = 0.01\n",
        "epochs = 30\n",
        "batch_size = 30\n",
        "\n",
        "my_feature = \"total_rooms\"\n",
        "my_label=\"median_house_value\"\n",
        "\n",
        "my_model = None\n",
        "\n",
        "my_model = build_model(learning_rate)\n",
        "weight, bias, epochs, rmse = train_model(my_model, data_frame, \n",
        "                                         my_feature, my_label,\n",
        "                                         epochs, batch_size)\n",
        "\n",
        "print(\"\\nThe learned weight for your model is %.4f\" % weight)\n",
        "print(\"The learned bias for your model is %.4f\\n\" % bias )\n",
        "\n",
        "plot_the_model(weight, bias, my_feature, my_label)\n",
        "plot_the_loss_curve(epochs, rmse)"
      ],
      "metadata": {
        "colab": {
          "base_uri": "https://localhost:8080/",
          "height": 1000
        },
        "id": "tThSnzTcSJRR",
        "outputId": "2ffc4056-4a71-4672-d39c-f090ea9f597a"
      },
      "execution_count": 22,
      "outputs": [
        {
          "output_type": "stream",
          "name": "stdout",
          "text": [
            "Epoch 1/30\n"
          ]
        },
        {
          "output_type": "stream",
          "name": "stderr",
          "text": [
            "/usr/local/lib/python3.7/dist-packages/keras/optimizer_v2/rmsprop.py:130: UserWarning: The `lr` argument is deprecated, use `learning_rate` instead.\n",
            "  super(RMSprop, self).__init__(name, **kwargs)\n"
          ]
        },
        {
          "output_type": "stream",
          "name": "stdout",
          "text": [
            "567/567 [==============================] - 2s 2ms/step - loss: 32793.8477 - root_mean_squared_error: 181.0907\n",
            "Epoch 2/30\n",
            "567/567 [==============================] - 1s 2ms/step - loss: 28134.5840 - root_mean_squared_error: 167.7337\n",
            "Epoch 3/30\n",
            "567/567 [==============================] - 1s 2ms/step - loss: 27070.4355 - root_mean_squared_error: 164.5310\n",
            "Epoch 4/30\n",
            "567/567 [==============================] - 1s 2ms/step - loss: 26314.7246 - root_mean_squared_error: 162.2181\n",
            "Epoch 5/30\n",
            "567/567 [==============================] - 1s 2ms/step - loss: 25516.9453 - root_mean_squared_error: 159.7402\n",
            "Epoch 6/30\n",
            "567/567 [==============================] - 1s 2ms/step - loss: 25112.4160 - root_mean_squared_error: 158.4690\n",
            "Epoch 7/30\n",
            "567/567 [==============================] - 1s 2ms/step - loss: 24175.4199 - root_mean_squared_error: 155.4845\n",
            "Epoch 8/30\n",
            "567/567 [==============================] - 1s 1ms/step - loss: 23413.7402 - root_mean_squared_error: 153.0155\n",
            "Epoch 9/30\n",
            "567/567 [==============================] - 1s 1ms/step - loss: 22845.7188 - root_mean_squared_error: 151.1480\n",
            "Epoch 10/30\n",
            "567/567 [==============================] - 1s 1ms/step - loss: 22521.2949 - root_mean_squared_error: 150.0710\n",
            "Epoch 11/30\n",
            "567/567 [==============================] - 1s 1ms/step - loss: 21830.0996 - root_mean_squared_error: 147.7501\n",
            "Epoch 12/30\n",
            "567/567 [==============================] - 1s 1ms/step - loss: 21493.1211 - root_mean_squared_error: 146.6053\n",
            "Epoch 13/30\n",
            "567/567 [==============================] - 1s 1ms/step - loss: 20807.8027 - root_mean_squared_error: 144.2491\n",
            "Epoch 14/30\n",
            "567/567 [==============================] - 1s 1ms/step - loss: 20390.0078 - root_mean_squared_error: 142.7936\n",
            "Epoch 15/30\n",
            "567/567 [==============================] - 1s 1ms/step - loss: 19862.5859 - root_mean_squared_error: 140.9347\n",
            "Epoch 16/30\n",
            "567/567 [==============================] - 1s 1ms/step - loss: 19355.5820 - root_mean_squared_error: 139.1243\n",
            "Epoch 17/30\n",
            "567/567 [==============================] - 1s 1ms/step - loss: 19021.4043 - root_mean_squared_error: 137.9181\n",
            "Epoch 18/30\n",
            "567/567 [==============================] - 1s 1ms/step - loss: 18586.1387 - root_mean_squared_error: 136.3310\n",
            "Epoch 19/30\n",
            "567/567 [==============================] - 1s 1ms/step - loss: 18292.9648 - root_mean_squared_error: 135.2515\n",
            "Epoch 20/30\n",
            "567/567 [==============================] - 1s 1ms/step - loss: 17718.4102 - root_mean_squared_error: 133.1105\n",
            "Epoch 21/30\n",
            "567/567 [==============================] - 1s 1ms/step - loss: 17373.7012 - root_mean_squared_error: 131.8093\n",
            "Epoch 22/30\n",
            "567/567 [==============================] - 1s 1ms/step - loss: 17190.1895 - root_mean_squared_error: 131.1114\n",
            "Epoch 23/30\n",
            "567/567 [==============================] - 1s 1ms/step - loss: 16787.0527 - root_mean_squared_error: 129.5649\n",
            "Epoch 24/30\n",
            "567/567 [==============================] - 1s 1ms/step - loss: 16500.2754 - root_mean_squared_error: 128.4534\n",
            "Epoch 25/30\n",
            "567/567 [==============================] - 1s 1ms/step - loss: 16350.7988 - root_mean_squared_error: 127.8702\n",
            "Epoch 26/30\n",
            "567/567 [==============================] - 1s 1ms/step - loss: 16165.6846 - root_mean_squared_error: 127.1443\n",
            "Epoch 27/30\n",
            "567/567 [==============================] - 1s 1ms/step - loss: 15852.6660 - root_mean_squared_error: 125.9074\n",
            "Epoch 28/30\n",
            "567/567 [==============================] - 1s 1ms/step - loss: 15626.6748 - root_mean_squared_error: 125.0067\n",
            "Epoch 29/30\n",
            "567/567 [==============================] - 1s 1ms/step - loss: 15445.5527 - root_mean_squared_error: 124.2801\n",
            "Epoch 30/30\n",
            "567/567 [==============================] - 1s 1ms/step - loss: 15277.6592 - root_mean_squared_error: 123.6028\n",
            "\n",
            "The learned weight for your model is 0.0145\n",
            "The learned bias for your model is 132.4404\n",
            "\n"
          ]
        },
        {
          "output_type": "stream",
          "name": "stderr",
          "text": [
            "/usr/local/lib/python3.7/dist-packages/numpy/core/shape_base.py:65: VisibleDeprecationWarning: Creating an ndarray from ragged nested sequences (which is a list-or-tuple of lists-or-tuples-or ndarrays with different lengths or shapes) is deprecated. If you meant to do this, you must specify 'dtype=object' when creating the ndarray.\n",
            "  ary = asanyarray(ary)\n"
          ]
        },
        {
          "output_type": "display_data",
          "data": {
            "text/plain": [
              "<Figure size 432x288 with 1 Axes>"
            ],
            "image/png": "[encoded data removed]"
          },
          "metadata": {
            "needs_background": "light"
          }
        },
        {
          "output_type": "display_data",
          "data": {
            "text/plain": [
              "<Figure size 432x288 with 1 Axes>"
            ],
            "image/png": "[encoded data removed]"
          },
          "metadata": {
            "needs_background": "light"
          }
        }
      ]
    },
    {
      "cell_type": "markdown",
      "source": [
        "Using population as the feature to train the model"
      ],
      "metadata": {
        "id": "Og3C-AOoSEj5"
      }
    },
    {
      "cell_type": "code",
      "source": [
        "my_feature = \"population\"  \n",
        "\n",
        "# Experiment with the hyperparameters.\n",
        "learning_rate = 2\n",
        "epochs = 3\n",
        "batch_size = 120\n",
        "\n",
        "# Don't change anything below this line.\n",
        "my_model = build_model(learning_rate)\n",
        "weight, bias, epochs, rmse = train_model(my_model, data_frame, \n",
        "                                         my_feature, my_label,\n",
        "                                         epochs, batch_size)\n",
        "plot_the_model(weight, bias, my_feature, my_label)\n",
        "plot_the_loss_curve(epochs, rmse)\n",
        "\n",
        "predict_house_values(15, my_feature, my_label)"
      ],
      "metadata": {
        "colab": {
          "base_uri": "https://localhost:8080/",
          "height": 1000
        },
        "id": "1K45ZtPyS98X",
        "outputId": "4896c79d-21a5-4bcb-ec6a-a1fe05319da8"
      },
      "execution_count": 23,
      "outputs": [
        {
          "output_type": "stream",
          "name": "stdout",
          "text": [
            "Epoch 1/3\n"
          ]
        },
        {
          "output_type": "stream",
          "name": "stderr",
          "text": [
            "/usr/local/lib/python3.7/dist-packages/keras/optimizer_v2/rmsprop.py:130: UserWarning: The `lr` argument is deprecated, use `learning_rate` instead.\n",
            "  super(RMSprop, self).__init__(name, **kwargs)\n"
          ]
        },
        {
          "output_type": "stream",
          "name": "stdout",
          "text": [
            "142/142 [==============================] - 1s 2ms/step - loss: 3477781.0000 - root_mean_squared_error: 1864.8811\n",
            "Epoch 2/3\n",
            "142/142 [==============================] - 0s 2ms/step - loss: 3558004.0000 - root_mean_squared_error: 1886.2672\n",
            "Epoch 3/3\n",
            "142/142 [==============================] - 0s 2ms/step - loss: 2894245.0000 - root_mean_squared_error: 1701.2480\n"
          ]
        },
        {
          "output_type": "stream",
          "name": "stderr",
          "text": [
            "/usr/local/lib/python3.7/dist-packages/numpy/core/shape_base.py:65: VisibleDeprecationWarning: Creating an ndarray from ragged nested sequences (which is a list-or-tuple of lists-or-tuples-or ndarrays with different lengths or shapes) is deprecated. If you meant to do this, you must specify 'dtype=object' when creating the ndarray.\n",
            "  ary = asanyarray(ary)\n"
          ]
        },
        {
          "output_type": "display_data",
          "data": {
            "text/plain": [
              "<Figure size 432x288 with 1 Axes>"
            ],
            "image/png": "[encoded data removed]"
          },
          "metadata": {
            "needs_background": "light"
          }
        },
        {
          "output_type": "display_data",
          "data": {
            "text/plain": [
              "<Figure size 432x288 with 1 Axes>"
            ],
            "image/png": "[encoded data removed]"
          },
          "metadata": {
            "needs_background": "light"
          }
        },
        {
          "output_type": "stream",
          "name": "stdout",
          "text": [
            "feature   label          predicted\n",
            "  value   value          value\n",
            "          in thousand$   in thousand$\n",
            "--------------------------------------\n",
            " 1286     53             212\n",
            " 1867     92             288\n",
            " 2191     69             331\n",
            " 1052     62             182\n",
            " 1647     80             260\n",
            " 2312    295             347\n",
            " 1604    500             254\n",
            " 1066    342             183\n",
            "  338    118              88\n",
            " 1604    128             254\n",
            " 1200    187             201\n",
            "  292     80              82\n",
            " 2014    112             308\n",
            " 1817     95             282\n",
            " 1328     69             218\n"
          ]
        }
      ]
    },
    {
      "cell_type": "markdown",
      "source": [
        "Tuning the hyperparameters"
      ],
      "metadata": {
        "id": "a79AFzYwTRNE"
      }
    },
    {
      "cell_type": "code",
      "source": [
        "my_feature = \"population\"\n",
        "\n",
        "learning_rate = 0.045\n",
        "epochs = 18\n",
        "batch_size = 3\n",
        "\n",
        "my_model = build_model(learning_rate)\n",
        "weight, bias, epochs, rmse = train_model(my_model, data_frame, \n",
        "                                         my_feature, my_label,\n",
        "                                         epochs, batch_size)\n",
        "\n",
        "plot_the_model(weight, bias, my_feature, my_label)\n",
        "plot_the_loss_curve(epochs, rmse)\n",
        "\n",
        "predict_house_values(10, my_feature, my_label)"
      ],
      "metadata": {
        "colab": {
          "base_uri": "https://localhost:8080/",
          "height": 1000
        },
        "id": "M8wGImhcTMKe",
        "outputId": "0b820ef0-03e9-4a08-d0ec-152191a2698b"
      },
      "execution_count": 26,
      "outputs": [
        {
          "output_type": "stream",
          "name": "stdout",
          "text": [
            "Epoch 1/18\n"
          ]
        },
        {
          "output_type": "stream",
          "name": "stderr",
          "text": [
            "/usr/local/lib/python3.7/dist-packages/keras/optimizer_v2/rmsprop.py:130: UserWarning: The `lr` argument is deprecated, use `learning_rate` instead.\n",
            "  super(RMSprop, self).__init__(name, **kwargs)\n"
          ]
        },
        {
          "output_type": "stream",
          "name": "stdout",
          "text": [
            "5667/5667 [==============================] - 10s 2ms/step - loss: 27990.4160 - root_mean_squared_error: 167.3034\n",
            "Epoch 2/18\n",
            "5667/5667 [==============================] - 8s 1ms/step - loss: 19901.9414 - root_mean_squared_error: 141.0742\n",
            "Epoch 3/18\n",
            "5667/5667 [==============================] - 8s 1ms/step - loss: 17927.7480 - root_mean_squared_error: 133.8945\n",
            "Epoch 4/18\n",
            "5667/5667 [==============================] - 7s 1ms/step - loss: 17651.0215 - root_mean_squared_error: 132.8571\n",
            "Epoch 5/18\n",
            "5667/5667 [==============================] - 7s 1ms/step - loss: 17679.0879 - root_mean_squared_error: 132.9627\n",
            "Epoch 6/18\n",
            "5667/5667 [==============================] - 7s 1ms/step - loss: 17407.2188 - root_mean_squared_error: 131.9364\n",
            "Epoch 7/18\n",
            "5667/5667 [==============================] - 7s 1ms/step - loss: 17346.7539 - root_mean_squared_error: 131.7071\n",
            "Epoch 8/18\n",
            "5667/5667 [==============================] - 7s 1ms/step - loss: 17222.1836 - root_mean_squared_error: 131.2333\n",
            "Epoch 9/18\n",
            "5667/5667 [==============================] - 7s 1ms/step - loss: 17993.5117 - root_mean_squared_error: 134.1399\n",
            "Epoch 10/18\n",
            "5667/5667 [==============================] - 8s 1ms/step - loss: 17367.5625 - root_mean_squared_error: 131.7860\n",
            "Epoch 11/18\n",
            "5667/5667 [==============================] - 7s 1ms/step - loss: 17458.0820 - root_mean_squared_error: 132.1290\n",
            "Epoch 12/18\n",
            "5667/5667 [==============================] - 7s 1ms/step - loss: 17555.6152 - root_mean_squared_error: 132.4976\n",
            "Epoch 13/18\n",
            "5667/5667 [==============================] - 8s 1ms/step - loss: 17466.2773 - root_mean_squared_error: 132.1600\n",
            "Epoch 14/18\n",
            "5667/5667 [==============================] - 7s 1ms/step - loss: 17521.1172 - root_mean_squared_error: 132.3674\n",
            "Epoch 15/18\n",
            "5667/5667 [==============================] - 7s 1ms/step - loss: 17312.7461 - root_mean_squared_error: 131.5779\n",
            "Epoch 16/18\n",
            "5667/5667 [==============================] - 14s 2ms/step - loss: 17421.0000 - root_mean_squared_error: 131.9886\n",
            "Epoch 17/18\n",
            "5667/5667 [==============================] - 12s 2ms/step - loss: 17386.7520 - root_mean_squared_error: 131.8588\n",
            "Epoch 18/18\n",
            "5667/5667 [==============================] - 7s 1ms/step - loss: 17250.9121 - root_mean_squared_error: 131.3427\n"
          ]
        },
        {
          "output_type": "stream",
          "name": "stderr",
          "text": [
            "/usr/local/lib/python3.7/dist-packages/numpy/core/shape_base.py:65: VisibleDeprecationWarning: Creating an ndarray from ragged nested sequences (which is a list-or-tuple of lists-or-tuples-or ndarrays with different lengths or shapes) is deprecated. If you meant to do this, you must specify 'dtype=object' when creating the ndarray.\n",
            "  ary = asanyarray(ary)\n"
          ]
        },
        {
          "output_type": "display_data",
          "data": {
            "text/plain": [
              "<Figure size 432x288 with 1 Axes>"
            ],
            "image/png": "[encoded data removed]"
          },
          "metadata": {
            "needs_background": "light"
          }
        },
        {
          "output_type": "display_data",
          "data": {
            "text/plain": [
              "<Figure size 432x288 with 1 Axes>"
            ],
            "image/png": "[encoded data removed]"
          },
          "metadata": {
            "needs_background": "light"
          }
        },
        {
          "output_type": "stream",
          "name": "stdout",
          "text": [
            "feature   label          predicted\n",
            "  value   value          value\n",
            "          in thousand$   in thousand$\n",
            "--------------------------------------\n",
            " 1286     53             166\n",
            " 1867     92             145\n",
            " 2191     69             134\n",
            " 1052     62             174\n",
            " 1647     80             153\n",
            " 2312    295             130\n",
            " 1604    500             155\n",
            " 1066    342             173\n",
            "  338    118             199\n",
            " 1604    128             155\n"
          ]
        }
      ]
    },
    {
      "cell_type": "markdown",
      "source": [
        "Defining a synthetic feature, the ratio of number of rooms to the population"
      ],
      "metadata": {
        "id": "cr2FdLR5Tnom"
      }
    },
    {
      "cell_type": "code",
      "source": [
        "data_frame[\"rooms_per_person\"] = data_frame[\"total_rooms\"] / data_frame[\"population\"]\n",
        "my_feature = \"rooms_per_person\"   \n",
        "\n",
        "learning_rate = 0.06\n",
        "epochs = 24\n",
        "batch_size = 30\n",
        "\n",
        "my_model = build_model(learning_rate)\n",
        "weight, bias, epochs, mae = train_model(my_model, data_frame,\n",
        "                                        my_feature, my_label,\n",
        "                                        epochs, batch_size)\n",
        "\n",
        "plot_the_loss_curve(epochs, mae)\n",
        "predict_house_values(15, my_feature, my_label)\n"
      ],
      "metadata": {
        "colab": {
          "base_uri": "https://localhost:8080/",
          "height": 1000
        },
        "id": "rtb3oAVdT-Nd",
        "outputId": "5c6ecf72-9003-4099-c6b7-e5c09969f4d3"
      },
      "execution_count": 28,
      "outputs": [
        {
          "output_type": "stream",
          "name": "stdout",
          "text": [
            "Epoch 1/24\n"
          ]
        },
        {
          "output_type": "stream",
          "name": "stderr",
          "text": [
            "/usr/local/lib/python3.7/dist-packages/keras/optimizer_v2/rmsprop.py:130: UserWarning: The `lr` argument is deprecated, use `learning_rate` instead.\n",
            "  super(RMSprop, self).__init__(name, **kwargs)\n"
          ]
        },
        {
          "output_type": "stream",
          "name": "stdout",
          "text": [
            "567/567 [==============================] - 2s 3ms/step - loss: 37734.6211 - root_mean_squared_error: 194.2540\n",
            "Epoch 2/24\n",
            "567/567 [==============================] - 1s 2ms/step - loss: 18988.3672 - root_mean_squared_error: 137.7983\n",
            "Epoch 3/24\n",
            "567/567 [==============================] - 1s 2ms/step - loss: 15085.8311 - root_mean_squared_error: 122.8244\n",
            "Epoch 4/24\n",
            "567/567 [==============================] - 1s 2ms/step - loss: 14795.9111 - root_mean_squared_error: 121.6384\n",
            "Epoch 5/24\n",
            "567/567 [==============================] - 1s 2ms/step - loss: 14592.1211 - root_mean_squared_error: 120.7978\n",
            "Epoch 6/24\n",
            "567/567 [==============================] - 1s 2ms/step - loss: 14526.2070 - root_mean_squared_error: 120.5247\n",
            "Epoch 7/24\n",
            "567/567 [==============================] - 1s 1ms/step - loss: 14346.1885 - root_mean_squared_error: 119.7756\n",
            "Epoch 8/24\n",
            "567/567 [==============================] - 1s 1ms/step - loss: 14209.1035 - root_mean_squared_error: 119.2019\n",
            "Epoch 9/24\n",
            "567/567 [==============================] - 1s 1ms/step - loss: 14121.9678 - root_mean_squared_error: 118.8359\n",
            "Epoch 10/24\n",
            "567/567 [==============================] - 1s 1ms/step - loss: 14038.1396 - root_mean_squared_error: 118.4827\n",
            "Epoch 11/24\n",
            "567/567 [==============================] - 1s 2ms/step - loss: 13938.4199 - root_mean_squared_error: 118.0611\n",
            "Epoch 12/24\n",
            "567/567 [==============================] - 1s 1ms/step - loss: 13847.4453 - root_mean_squared_error: 117.6752\n",
            "Epoch 13/24\n",
            "567/567 [==============================] - 1s 1ms/step - loss: 13811.2314 - root_mean_squared_error: 117.5212\n",
            "Epoch 14/24\n",
            "567/567 [==============================] - 1s 1ms/step - loss: 13724.4150 - root_mean_squared_error: 117.1512\n",
            "Epoch 15/24\n",
            "567/567 [==============================] - 1s 1ms/step - loss: 13690.6045 - root_mean_squared_error: 117.0069\n",
            "Epoch 16/24\n",
            "567/567 [==============================] - 1s 2ms/step - loss: 13603.6729 - root_mean_squared_error: 116.6348\n",
            "Epoch 17/24\n",
            "567/567 [==============================] - 1s 1ms/step - loss: 13590.2939 - root_mean_squared_error: 116.5774\n",
            "Epoch 18/24\n",
            "567/567 [==============================] - 1s 1ms/step - loss: 13513.1289 - root_mean_squared_error: 116.2460\n",
            "Epoch 19/24\n",
            "567/567 [==============================] - 1s 1ms/step - loss: 13457.9072 - root_mean_squared_error: 116.0082\n",
            "Epoch 20/24\n",
            "567/567 [==============================] - 1s 1ms/step - loss: 13427.5146 - root_mean_squared_error: 115.8772\n",
            "Epoch 21/24\n",
            "567/567 [==============================] - 1s 1ms/step - loss: 13414.2744 - root_mean_squared_error: 115.8200\n",
            "Epoch 22/24\n",
            "567/567 [==============================] - 1s 1ms/step - loss: 13415.1768 - root_mean_squared_error: 115.8239\n",
            "Epoch 23/24\n",
            "567/567 [==============================] - 1s 1ms/step - loss: 13398.0537 - root_mean_squared_error: 115.7500\n",
            "Epoch 24/24\n",
            "567/567 [==============================] - 1s 1ms/step - loss: 13406.2422 - root_mean_squared_error: 115.7853\n"
          ]
        },
        {
          "output_type": "display_data",
          "data": {
            "text/plain": [
              "<Figure size 432x288 with 1 Axes>"
            ],
            "image/png": "[encoded data removed]"
          },
          "metadata": {
            "needs_background": "light"
          }
        },
        {
          "output_type": "stream",
          "name": "stdout",
          "text": [
            "feature   label          predicted\n",
            "  value   value          value\n",
            "          in thousand$   in thousand$\n",
            "--------------------------------------\n",
            "    2     53             189\n",
            "    2     92             201\n",
            "    2     69             195\n",
            "    2     62             212\n",
            "    1     80             186\n",
            "    2    295             226\n",
            "    2    500             211\n",
            "    2    342             224\n",
            "    4    118             289\n",
            "    2    128             214\n",
            "    2    187             224\n",
            "    3     80             235\n",
            "    2    112             225\n",
            "    2     95             219\n",
            "    2     69             211\n"
          ]
        }
      ]
    },
    {
      "cell_type": "code",
      "source": [
        "data_frame.corr()"
      ],
      "metadata": {
        "colab": {
          "base_uri": "https://localhost:8080/",
          "height": 376
        },
        "id": "Y7nrWY0YJCj_",
        "outputId": "839ecec5-bff7-4360-e7bc-25c27d0ef2cc"
      },
      "execution_count": 20,
      "outputs": [
        {
          "output_type": "execute_result",
          "data": {
            "text/plain": [
              "                    longitude  latitude  housing_median_age  total_rooms  \\\n",
              "longitude                 1.0      -0.9                -0.1          0.0   \n",
              "latitude                 -0.9       1.0                 0.0         -0.0   \n",
              "housing_median_age       -0.1       0.0                 1.0         -0.4   \n",
              "total_rooms               0.0      -0.0                -0.4          1.0   \n",
              "total_bedrooms            0.1      -0.1                -0.3          0.9   \n",
              "population                0.1      -0.1                -0.3          0.9   \n",
              "households                0.1      -0.1                -0.3          0.9   \n",
              "median_income            -0.0      -0.1                -0.1          0.2   \n",
              "median_house_value       -0.0      -0.1                 0.1          0.1   \n",
              "\n",
              "                    total_bedrooms  population  households  median_income  \\\n",
              "longitude                      0.1         0.1         0.1           -0.0   \n",
              "latitude                      -0.1        -0.1        -0.1           -0.1   \n",
              "housing_median_age            -0.3        -0.3        -0.3           -0.1   \n",
              "total_rooms                    0.9         0.9         0.9            0.2   \n",
              "total_bedrooms                 1.0         0.9         1.0           -0.0   \n",
              "population                     0.9         1.0         0.9           -0.0   \n",
              "households                     1.0         0.9         1.0            0.0   \n",
              "median_income                 -0.0        -0.0         0.0            1.0   \n",
              "median_house_value             0.0        -0.0         0.1            0.7   \n",
              "\n",
              "                    median_house_value  \n",
              "longitude                         -0.0  \n",
              "latitude                          -0.1  \n",
              "housing_median_age                 0.1  \n",
              "total_rooms                        0.1  \n",
              "total_bedrooms                     0.0  \n",
              "population                        -0.0  \n",
              "households                         0.1  \n",
              "median_income                      0.7  \n",
              "median_house_value                 1.0  "
            ],
            "text/html": [
              "\n",
              "  <div id=\"df-52ff7f23-df17-47a6-8183-9a27ef141894\">\n",
              "    <div class=\"colab-df-container\">\n",
              "      <div>\n",
              "<style scoped>\n",
              "    .dataframe tbody tr th:only-of-type {\n",
              "        vertical-align: middle;\n",
              "    }\n",
              "\n",
              "    .dataframe tbody tr th {\n",
              "        vertical-align: top;\n",
              "    }\n",
              "\n",
              "    .dataframe thead th {\n",
              "        text-align: right;\n",
              "    }\n",
              "</style>\n",
              "<table border=\"1\" class=\"dataframe\">\n",
              "  <thead>\n",
              "    <tr style=\"text-align: right;\">\n",
              "      <th></th>\n",
              "      <th>longitude</th>\n",
              "      <th>latitude</th>\n",
              "      <th>housing_median_age</th>\n",
              "      <th>total_rooms</th>\n",
              "      <th>total_bedrooms</th>\n",
              "      <th>population</th>\n",
              "      <th>households</th>\n",
              "      <th>median_income</th>\n",
              "      <th>median_house_value</th>\n",
              "    </tr>\n",
              "  </thead>\n",
              "  <tbody>\n",
              "    <tr>\n",
              "      <th>longitude</th>\n",
              "      <td>1.0</td>\n",
              "      <td>-0.9</td>\n",
              "      <td>-0.1</td>\n",
              "      <td>0.0</td>\n",
              "      <td>0.1</td>\n",
              "      <td>0.1</td>\n",
              "      <td>0.1</td>\n",
              "      <td>-0.0</td>\n",
              "      <td>-0.0</td>\n",
              "    </tr>\n",
              "    <tr>\n",
              "      <th>latitude</th>\n",
              "      <td>-0.9</td>\n",
              "      <td>1.0</td>\n",
              "      <td>0.0</td>\n",
              "      <td>-0.0</td>\n",
              "      <td>-0.1</td>\n",
              "      <td>-0.1</td>\n",
              "      <td>-0.1</td>\n",
              "      <td>-0.1</td>\n",
              "      <td>-0.1</td>\n",
              "    </tr>\n",
              "    <tr>\n",
              "      <th>housing_median_age</th>\n",
              "      <td>-0.1</td>\n",
              "      <td>0.0</td>\n",
              "      <td>1.0</td>\n",
              "      <td>-0.4</td>\n",
              "      <td>-0.3</td>\n",
              "      <td>-0.3</td>\n",
              "      <td>-0.3</td>\n",
              "      <td>-0.1</td>\n",
              "      <td>0.1</td>\n",
              "    </tr>\n",
              "    <tr>\n",
              "      <th>total_rooms</th>\n",
              "      <td>0.0</td>\n",
              "      <td>-0.0</td>\n",
              "      <td>-0.4</td>\n",
              "      <td>1.0</td>\n",
              "      <td>0.9</td>\n",
              "      <td>0.9</td>\n",
              "      <td>0.9</td>\n",
              "      <td>0.2</td>\n",
              "      <td>0.1</td>\n",
              "    </tr>\n",
              "    <tr>\n",
              "      <th>total_bedrooms</th>\n",
              "      <td>0.1</td>\n",
              "      <td>-0.1</td>\n",
              "      <td>-0.3</td>\n",
              "      <td>0.9</td>\n",
              "      <td>1.0</td>\n",
              "      <td>0.9</td>\n",
              "      <td>1.0</td>\n",
              "      <td>-0.0</td>\n",
              "      <td>0.0</td>\n",
              "    </tr>\n",
              "    <tr>\n",
              "      <th>population</th>\n",
              "      <td>0.1</td>\n",
              "      <td>-0.1</td>\n",
              "      <td>-0.3</td>\n",
              "      <td>0.9</td>\n",
              "      <td>0.9</td>\n",
              "      <td>1.0</td>\n",
              "      <td>0.9</td>\n",
              "      <td>-0.0</td>\n",
              "      <td>-0.0</td>\n",
              "    </tr>\n",
              "    <tr>\n",
              "      <th>households</th>\n",
              "      <td>0.1</td>\n",
              "      <td>-0.1</td>\n",
              "      <td>-0.3</td>\n",
              "      <td>0.9</td>\n",
              "      <td>1.0</td>\n",
              "      <td>0.9</td>\n",
              "      <td>1.0</td>\n",
              "      <td>0.0</td>\n",
              "      <td>0.1</td>\n",
              "    </tr>\n",
              "    <tr>\n",
              "      <th>median_income</th>\n",
              "      <td>-0.0</td>\n",
              "      <td>-0.1</td>\n",
              "      <td>-0.1</td>\n",
              "      <td>0.2</td>\n",
              "      <td>-0.0</td>\n",
              "      <td>-0.0</td>\n",
              "      <td>0.0</td>\n",
              "      <td>1.0</td>\n",
              "      <td>0.7</td>\n",
              "    </tr>\n",
              "    <tr>\n",
              "      <th>median_house_value</th>\n",
              "      <td>-0.0</td>\n",
              "      <td>-0.1</td>\n",
              "      <td>0.1</td>\n",
              "      <td>0.1</td>\n",
              "      <td>0.0</td>\n",
              "      <td>-0.0</td>\n",
              "      <td>0.1</td>\n",
              "      <td>0.7</td>\n",
              "      <td>1.0</td>\n",
              "    </tr>\n",
              "  </tbody>\n",
              "</table>\n",
              "</div>\n",
              "      <button class=\"colab-df-convert\" onclick=\"convertToInteractive('df-52ff7f23-df17-47a6-8183-9a27ef141894')\"\n",
              "              title=\"Convert this dataframe to an interactive table.\"\n",
              "              style=\"display:none;\">\n",
              "        \n",
              "  <svg xmlns=\"http://www.w3.org/2000/svg\" height=\"24px\"viewBox=\"0 0 24 24\"\n",
              "       width=\"24px\">\n",
              "    <path d=\"M0 0h24v24H0V0z\" fill=\"none\"/>\n",
              "    <path d=\"M18.56 5.44l.94 2.06.94-2.06 2.06-.94-2.06-.94-.94-2.06-.94 2.06-2.06.94zm-11 1L8.5 8.5l.94-2.06 2.06-.94-2.06-.94L8.5 2.5l-.94 2.06-2.06.94zm10 10l.94 2.06.94-2.06 2.06-.94-2.06-.94-.94-2.06-.94 2.06-2.06.94z\"/><path d=\"M17.41 7.96l-1.37-1.37c-.4-.4-.92-.59-1.43-.59-.52 0-1.04.2-1.43.59L10.3 9.45l-7.72 7.72c-.78.78-.78 2.05 0 2.83L4 21.41c.39.39.9.59 1.41.59.51 0 1.02-.2 1.41-.59l7.78-7.78 2.81-2.81c.8-.78.8-2.07 0-2.86zM5.41 20L4 18.59l7.72-7.72 1.47 1.35L5.41 20z\"/>\n",
              "  </svg>\n",
              "      </button>\n",
              "      \n",
              "  <style>\n",
              "    .colab-df-container {\n",
              "      display:flex;\n",
              "      flex-wrap:wrap;\n",
              "      gap: 12px;\n",
              "    }\n",
              "\n",
              "    .colab-df-convert {\n",
              "      background-color: #E8F0FE;\n",
              "      border: none;\n",
              "      border-radius: 50%;\n",
              "      cursor: pointer;\n",
              "      display: none;\n",
              "      fill: #1967D2;\n",
              "      height: 32px;\n",
              "      padding: 0 0 0 0;\n",
              "      width: 32px;\n",
              "    }\n",
              "\n",
              "    .colab-df-convert:hover {\n",
              "      background-color: #E2EBFA;\n",
              "      box-shadow: 0px 1px 2px rgba(60, 64, 67, 0.3), 0px 1px 3px 1px rgba(60, 64, 67, 0.15);\n",
              "      fill: #174EA6;\n",
              "    }\n",
              "\n",
              "    [theme=dark] .colab-df-convert {\n",
              "      background-color: #3B4455;\n",
              "      fill: #D2E3FC;\n",
              "    }\n",
              "\n",
              "    [theme=dark] .colab-df-convert:hover {\n",
              "      background-color: #434B5C;\n",
              "      box-shadow: 0px 1px 3px 1px rgba(0, 0, 0, 0.15);\n",
              "      filter: drop-shadow(0px 1px 2px rgba(0, 0, 0, 0.3));\n",
              "      fill: #FFFFFF;\n",
              "    }\n",
              "  </style>\n",
              "\n",
              "      <script>\n",
              "        const buttonEl =\n",
              "          document.querySelector('#df-52ff7f23-df17-47a6-8183-9a27ef141894 button.colab-df-convert');\n",
              "        buttonEl.style.display =\n",
              "          google.colab.kernel.accessAllowed ? 'block' : 'none';\n",
              "\n",
              "        async function convertToInteractive(key) {\n",
              "          const element = document.querySelector('#df-52ff7f23-df17-47a6-8183-9a27ef141894');\n",
              "          const dataTable =\n",
              "            await google.colab.kernel.invokeFunction('convertToInteractive',\n",
              "                                                     [key], {});\n",
              "          if (!dataTable) return;\n",
              "\n",
              "          const docLinkHtml = 'Like what you see? Visit the ' +\n",
              "            '<a target=\"_blank\" href=https://colab.research.google.com/notebooks/data_table.ipynb>data table notebook</a>'\n",
              "            + ' to learn more about interactive tables.';\n",
              "          element.innerHTML = '';\n",
              "          dataTable['output_type'] = 'display_data';\n",
              "          await google.colab.output.renderOutput(dataTable, element);\n",
              "          const docLink = document.createElement('div');\n",
              "          docLink.innerHTML = docLinkHtml;\n",
              "          element.appendChild(docLink);\n",
              "        }\n",
              "      </script>\n",
              "    </div>\n",
              "  </div>\n",
              "  "
            ]
          },
          "metadata": {},
          "execution_count": 20
        }
      ]
    }
  ]
}